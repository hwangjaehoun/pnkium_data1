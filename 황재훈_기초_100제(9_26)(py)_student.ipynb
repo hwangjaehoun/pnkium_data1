{
  "nbformat": 4,
  "nbformat_minor": 0,
  "metadata": {
    "colab": {
      "provenance": []
    },
    "kernelspec": {
      "name": "python3",
      "display_name": "Python 3"
    }
  },
  "cells": [
    {
      "cell_type": "markdown",
      "metadata": {
        "id": "lF1bOoQFuduK"
      },
      "source": [
        "# 6009 : [기초-입출력] 문자 1개 입력받아 그대로 출력하기(설명)(py)"
      ]
    },
    {
      "cell_type": "code",
      "metadata": {
        "colab": {
          "base_uri": "https://localhost:8080/"
        },
        "id": "cT401Km4utBC",
        "outputId": "174592f8-f4b4-4d85-b87c-e10cf047d3b6"
      },
      "source": [
        "a=input()\n",
        "10\n"
      ],
      "execution_count": null,
      "outputs": [
        {
          "name": "stdout",
          "output_type": "stream",
          "text": [
            "10\n"
          ]
        },
        {
          "output_type": "execute_result",
          "data": {
            "text/plain": [
              "10"
            ]
          },
          "metadata": {},
          "execution_count": 1
        }
      ]
    },
    {
      "cell_type": "markdown",
      "metadata": {
        "id": "t5bmFHCMmpAR"
      },
      "source": [
        "# 6010 : [기초-입출력] 정수 1개 입력받아 int로 변환하여 출력하기(설명)(py)"
      ]
    },
    {
      "cell_type": "code",
      "metadata": {
        "id": "v23OJ_uQmfpa",
        "colab": {
          "base_uri": "https://localhost:8080/"
        },
        "outputId": "55ed7d9d-f86b-44f7-b46d-004a0c1983ad"
      },
      "source": [
        "10"
      ],
      "execution_count": null,
      "outputs": [
        {
          "output_type": "execute_result",
          "data": {
            "text/plain": [
              "10"
            ]
          },
          "metadata": {},
          "execution_count": 2
        }
      ]
    },
    {
      "cell_type": "markdown",
      "metadata": {
        "id": "r4b2LiREm8UP"
      },
      "source": [
        "# 6011 : [기초-입출력] 실수 1개 입력받아 변환하여 출력하기(설명)(py)"
      ]
    },
    {
      "cell_type": "code",
      "metadata": {
        "id": "iEWYiib6nBdC"
      },
      "source": [],
      "execution_count": null,
      "outputs": []
    },
    {
      "cell_type": "markdown",
      "metadata": {
        "id": "S96P8demnSMA"
      },
      "source": [
        "# 6012 : [기초-입출력] 정수 2개 입력받아 그대로 출력하기1(설명)(py)"
      ]
    },
    {
      "cell_type": "code",
      "metadata": {
        "id": "mXDHp0N6nXZR"
      },
      "source": [],
      "execution_count": null,
      "outputs": []
    },
    {
      "cell_type": "markdown",
      "metadata": {
        "id": "U02tSzPVneag"
      },
      "source": [
        "# 6013 : [기초-입출력] 문자 2개 입력받아 순서 바꿔 출력하기1(py)"
      ]
    },
    {
      "cell_type": "code",
      "metadata": {
        "id": "zUNShlyUnjli"
      },
      "source": [],
      "execution_count": null,
      "outputs": []
    },
    {
      "cell_type": "markdown",
      "metadata": {
        "id": "jyHZ8rsSnp2I"
      },
      "source": [
        "# 6014 : [기초-입출력] 실수 1개 입력받아 3번 출력하기(py)"
      ]
    },
    {
      "cell_type": "code",
      "metadata": {
        "id": "TQpHdxPmnuA0"
      },
      "source": [],
      "execution_count": null,
      "outputs": []
    },
    {
      "cell_type": "markdown",
      "metadata": {
        "id": "EDyqb1l9oWug"
      },
      "source": [
        "# 6015 : [기초-입출력] 정수 2개 입력받아 그대로 출력하기2(설명)(py)"
      ]
    },
    {
      "cell_type": "code",
      "metadata": {
        "id": "r4it7ZihobDw"
      },
      "source": [],
      "execution_count": null,
      "outputs": []
    },
    {
      "cell_type": "markdown",
      "metadata": {
        "id": "b4n0SilcogRa"
      },
      "source": [
        "# 6016 : [기초-입출력] 문자 2개 입력받아 순서 바꿔 출력하기2(설명)(py)"
      ]
    },
    {
      "cell_type": "code",
      "metadata": {
        "id": "lDNooofnOG0H"
      },
      "source": [],
      "execution_count": null,
      "outputs": []
    },
    {
      "cell_type": "markdown",
      "metadata": {
        "id": "-u-AanDAOOvH"
      },
      "source": [
        "# 6017 : [기초-입출력] 문장 1개 입력받아 3번 출력하기(설명)(py)"
      ]
    },
    {
      "cell_type": "code",
      "metadata": {
        "id": "9NkKXZNDOShe"
      },
      "source": [],
      "execution_count": null,
      "outputs": []
    },
    {
      "cell_type": "markdown",
      "metadata": {
        "id": "H9xgj_kwOdoA"
      },
      "source": [
        "# 6018 : [기초-입출력] 시간 입력받아 그대로 출력하기(설명)(py)"
      ]
    },
    {
      "cell_type": "code",
      "metadata": {
        "id": "AH4pjiguOig9"
      },
      "source": [],
      "execution_count": null,
      "outputs": []
    },
    {
      "cell_type": "markdown",
      "metadata": {
        "id": "JYS-3BetOp-P"
      },
      "source": [
        "# 6019 : [기초-입출력] 연월일 입력받아 순서 바꿔 출력하기(py)"
      ]
    },
    {
      "cell_type": "code",
      "metadata": {
        "id": "bZwa_6C-OxOb"
      },
      "source": [
        "\n"
      ],
      "execution_count": null,
      "outputs": []
    },
    {
      "cell_type": "markdown",
      "metadata": {
        "id": "iow67t1RO9bQ"
      },
      "source": [
        "# 6020 : [기초-입출력] 주민번호 입력받아 형태 바꿔 출력하기(py)"
      ]
    },
    {
      "cell_type": "code",
      "metadata": {
        "id": "og2alovePAbY"
      },
      "source": [],
      "execution_count": null,
      "outputs": []
    },
    {
      "cell_type": "markdown",
      "metadata": {
        "id": "31aUaTxpPHYk"
      },
      "source": [
        "# 6021 : [기초-입출력] 단어 1개 입력받아 나누어 출력하기(설명)(py)"
      ]
    },
    {
      "cell_type": "code",
      "metadata": {
        "id": "MOJzcNqBPNP3"
      },
      "source": [],
      "execution_count": null,
      "outputs": []
    },
    {
      "cell_type": "markdown",
      "metadata": {
        "id": "C8G5yO9xPT2G"
      },
      "source": [
        "# 6022 : [기초-입출력] 연월일 입력받아 나누어 출력하기(설명)(py)"
      ]
    },
    {
      "cell_type": "code",
      "metadata": {
        "id": "Q4IymnKzPnnO"
      },
      "source": [],
      "execution_count": null,
      "outputs": []
    },
    {
      "cell_type": "markdown",
      "metadata": {
        "id": "fxYpTjerPxKh"
      },
      "source": [
        "# 6023 : [기초-입출력] 시분초 입력받아 분만 출력하기(py)"
      ]
    },
    {
      "cell_type": "code",
      "metadata": {
        "id": "opg9Yu3yPyqd"
      },
      "source": [],
      "execution_count": null,
      "outputs": []
    },
    {
      "cell_type": "markdown",
      "metadata": {
        "id": "jU_1Dhl4P9JL"
      },
      "source": [
        "# 6024 : [기초-입출력] 단어 2개 입력받아 이어 붙이기(설명)(py)"
      ]
    },
    {
      "cell_type": "code",
      "metadata": {
        "id": "uLnCyb1pP-nF"
      },
      "source": [
        "\n"
      ],
      "execution_count": null,
      "outputs": []
    },
    {
      "cell_type": "markdown",
      "metadata": {
        "id": "oPC81MQEQEZT"
      },
      "source": [
        "# 6025 : [기초-값변환] 정수 2개 입력받아 합 계산하기(설명)(py)"
      ]
    },
    {
      "cell_type": "code",
      "metadata": {
        "id": "9avPZNCNQI1b"
      },
      "source": [],
      "execution_count": null,
      "outputs": []
    },
    {
      "cell_type": "markdown",
      "metadata": {
        "id": "VFpax3TaQU3K"
      },
      "source": [
        "# 6026 : [기초-값변환] 실수 2개 입력받아 합 계산하기(설명)(py)"
      ]
    },
    {
      "cell_type": "code",
      "metadata": {
        "id": "6_1MOyWzQb-t"
      },
      "source": [],
      "execution_count": null,
      "outputs": []
    }
  ]
}